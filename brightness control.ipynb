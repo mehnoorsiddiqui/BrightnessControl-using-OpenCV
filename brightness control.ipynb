{
 "cells": [
  {
   "cell_type": "code",
   "execution_count": null,
   "id": "84ad4445",
   "metadata": {},
   "outputs": [],
   "source": [
    "import cv2 \n",
    "import mediapipe as mp\n",
    "from math import hypot\n",
    "import screen_brightness_control as sbc   #pip3 install screen-brightness-control\n",
    "import numpy as np \n",
    "\n",
    "cap = cv2.VideoCapture(0)\n",
    "\n",
    "mpHands = mp.solutions.hands \n",
    "hands = mpHands.Hands()\n",
    "mpDraw = mp.solutions.drawing_utils\n",
    "\n",
    "while True:\n",
    "    success,img = cap.read()\n",
    "    imgRGB = cv2.cvtColor(img,cv2.COLOR_BGR2RGB)\n",
    "    results = hands.process(imgRGB)\n",
    "\n",
    "    lmList = []\n",
    "    if results.multi_hand_landmarks:\n",
    "        for handlandmark in results.multi_hand_landmarks:\n",
    "            for id,lm in enumerate(handlandmark.landmark):\n",
    "                h,w,_ = img.shape\n",
    "                cx,cy = int(lm.x*w),int(lm.y*h)\n",
    "                lmList.append([id,cx,cy]) \n",
    "            mpDraw.draw_landmarks(img,handlandmark,mpHands.HAND_CONNECTIONS)\n",
    "    \n",
    "    if lmList != []:\n",
    "        x1,y1 = lmList[4][1],lmList[4][2]\n",
    "        x2,y2 = lmList[8][1],lmList[8][2]\n",
    "\n",
    "        cv2.circle(img,(x1,y1),4,(255,0,0),cv2.FILLED)\n",
    "        cv2.circle(img,(x2,y2),4,(255,0,0),cv2.FILLED)\n",
    "        cv2.line(img,(x1,y1),(x2,y2),(255,0,0),3)\n",
    "\n",
    "        length = hypot(x2-x1,y2-y1)\n",
    "\n",
    "        bright = np.interp(length,[15,220],[0,100])\n",
    "        print(bright,length)\n",
    "        sbc.set_brightness(int(bright))\n",
    "        \n",
    "        # Hand range 15 - 220\n",
    "        # Brightness range 0 - 100\n",
    "\n",
    "    cv2.imshow('Image',img)\n",
    "    if cv2.waitKey(1) & 0xff==ord('q'):\n",
    "        break"
   ]
  },
  {
   "cell_type": "code",
   "execution_count": null,
   "id": "da85b9ec",
   "metadata": {},
   "outputs": [],
   "source": [
    "import cv2\n",
    "\n",
    "cap=cv2.VideoCapture(0)\n",
    "\n",
    "while True:\n",
    "    success,img=cap.read()\n",
    "    cv2.imshow('Image',img)\n",
    "    cv2.waitKey(1)\n",
    "    \n"
   ]
  },
  {
   "cell_type": "code",
   "execution_count": null,
   "id": "b4213eae",
   "metadata": {},
   "outputs": [],
   "source": []
  }
 ],
 "metadata": {
  "kernelspec": {
   "display_name": "Python 3 (ipykernel)",
   "language": "python",
   "name": "python3"
  },
  "language_info": {
   "codemirror_mode": {
    "name": "ipython",
    "version": 3
   },
   "file_extension": ".py",
   "mimetype": "text/x-python",
   "name": "python",
   "nbconvert_exporter": "python",
   "pygments_lexer": "ipython3",
   "version": "3.9.7"
  }
 },
 "nbformat": 4,
 "nbformat_minor": 5
}
